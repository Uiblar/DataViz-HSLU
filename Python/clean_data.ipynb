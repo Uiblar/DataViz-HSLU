{
 "cells": [
  {
   "cell_type": "code",
   "execution_count": 1,
   "metadata": {},
   "outputs": [],
   "source": [
    "import pandas as pd"
   ]
  },
  {
   "cell_type": "code",
   "execution_count": 2,
   "metadata": {},
   "outputs": [],
   "source": [
    "# Read in the data\n",
    "df = pd.read_csv('../Data/data.csv',\n",
    "                 parse_dates=['Date', 'Date of Birth']\n",
    "                 )"
   ]
  },
  {
   "cell_type": "code",
   "execution_count": 3,
   "metadata": {},
   "outputs": [
    {
     "name": "stdout",
     "output_type": "stream",
     "text": [
      "   Rank             Time             Name Country Date of Birth  Place  \\\n",
      "0     1  00:01:40.910000    David Rudisha     KEN    1988-12-17    1.0   \n",
      "1     2  00:01:41.010000    David Rudisha     KEN    1988-12-17    1.0   \n",
      "2     3  00:01:41.090000    David Rudisha     KEN    1988-12-17    1.0   \n",
      "3     4  00:01:41.110000  Wilson Kipketer     DEN    1970-12-12    1.0   \n",
      "4     5  00:01:41.240000  Wilson Kipketer     DEN    1970-12-12    1.0   \n",
      "\n",
      "     City       Date Gender  Event  \n",
      "0  London 2012-09-08    Men  800 m  \n",
      "1   Rieti 2010-08-29    Men  800 m  \n",
      "2  Berlin 2010-08-22    Men  800 m  \n",
      "3    Köln 1997-08-24    Men  800 m  \n",
      "4  Zürich 1997-08-13    Men  800 m  \n",
      "       Rank             Time                    Name Country Date of Birth  \\\n",
      "18239  1000  00:03:33.250000      Noureddine Morceli     ALG    1970-02-28   \n",
      "18240  1000  00:03:33.250000              Paul Korir     KEN    1977-07-15   \n",
      "18241  1000  00:03:33.250000  Hudson Santos de Souza     BRA    1977-02-25   \n",
      "18242  1000  00:03:33.250000            Issac Songok     KEN    1984-04-25   \n",
      "18243  1000  00:03:33.250000         Bethwell Birgen     KEN    1988-08-06   \n",
      "\n",
      "       Place       City       Date Gender   Event  \n",
      "18239    1.0     Moskva 1995-06-05    Men  1500 m  \n",
      "18240    5.0     Zürich 2003-08-15    Men  1500 m  \n",
      "18241    5.0      Rieti 2005-08-28    Men  1500 m  \n",
      "18242    2.0  Stockholm 2006-07-25    Men  1500 m  \n",
      "18243    7.0   Lausanne 2012-08-23    Men  1500 m  \n"
     ]
    }
   ],
   "source": [
    "# show first 5 rows\n",
    "print(df.head())\n",
    "# show last 5 rows\n",
    "print(df.tail())"
   ]
  },
  {
   "cell_type": "code",
   "execution_count": 4,
   "metadata": {},
   "outputs": [
    {
     "name": "stdout",
     "output_type": "stream",
     "text": [
      "(18244, 10)\n",
      "Index(['Rank', 'Time', 'Name', 'Country', 'Date of Birth', 'Place', 'City',\n",
      "       'Date', 'Gender', 'Event'],\n",
      "      dtype='object')\n",
      "Rank                      int64\n",
      "Time                     object\n",
      "Name                     object\n",
      "Country                  object\n",
      "Date of Birth    datetime64[ns]\n",
      "Place                   float64\n",
      "City                     object\n",
      "Date             datetime64[ns]\n",
      "Gender                   object\n",
      "Event                    object\n",
      "dtype: object\n"
     ]
    }
   ],
   "source": [
    "# show the shape of the Data\n",
    "print(df.shape)\n",
    "# show the columns\n",
    "print(df.columns)\n",
    "# show the data types\n",
    "print(df.dtypes)"
   ]
  },
  {
   "cell_type": "code",
   "execution_count": 5,
   "metadata": {},
   "outputs": [
    {
     "name": "stdout",
     "output_type": "stream",
     "text": [
      "0   100.910\n",
      "1   101.010\n",
      "2   101.090\n",
      "3   101.110\n",
      "4   101.240\n",
      "Name: Time_s, dtype: float64\n"
     ]
    }
   ],
   "source": [
    "#convert the column Time and it to Time_s (time in seconds)\n",
    "df['Time_s'] = pd.to_timedelta(df['Time']).dt.total_seconds().astype(float)\n",
    "pd.set_option('display.float_format', '{:.3f}'.format)\n",
    "print(df['Time_s'].head())"
   ]
  },
  {
   "cell_type": "code",
   "execution_count": 6,
   "metadata": {},
   "outputs": [
    {
     "name": "stdout",
     "output_type": "stream",
     "text": [
      "0   23.742\n",
      "1   21.712\n",
      "2   21.693\n",
      "3   26.718\n",
      "4   26.688\n",
      "Name: Age, dtype: float64\n",
      "count   18244.000\n",
      "mean       26.031\n",
      "std         4.143\n",
      "min        11.551\n",
      "25%        22.958\n",
      "50%        25.701\n",
      "75%        28.693\n",
      "max       115.756\n",
      "Name: Age, dtype: float64\n"
     ]
    }
   ],
   "source": [
    "# sanity check (ages should be between 12 and 50)\n",
    "# Date (of the event) - Date of Birth (of the participant) = Age (of the participant)\n",
    "# then convert the age to years (from days)\n",
    "df['Age'] = df['Date'] - df['Date of Birth']\n",
    "df['Age'] = df['Age'].dt.days/365\n",
    "print(df['Age'].head())\n",
    "# describe\n",
    "print(df['Age'].describe())\n",
    "\n"
   ]
  },
  {
   "cell_type": "code",
   "execution_count": 7,
   "metadata": {},
   "outputs": [
    {
     "name": "stdout",
     "output_type": "stream",
     "text": [
      "count   18241.000\n",
      "mean       26.024\n",
      "std         4.078\n",
      "min        15.140\n",
      "25%        22.959\n",
      "50%        25.701\n",
      "75%        28.693\n",
      "max        43.247\n",
      "Name: Age, dtype: float64\n"
     ]
    }
   ],
   "source": [
    "df = df.query('12 <= Age <= 50')\n",
    "print(df['Age'].describe())\n"
   ]
  },
  {
   "cell_type": "code",
   "execution_count": 8,
   "metadata": {},
   "outputs": [
    {
     "name": "stdout",
     "output_type": "stream",
     "text": [
      "Rank                             731\n",
      "Time                 00:31:41.090000\n",
      "Name                  Lydia Cheromei\n",
      "Country                          KEN\n",
      "Date of Birth    1977-05-11 00:00:00\n",
      "Place                          2.000\n",
      "City              Belle vue Mauricia\n",
      "Date             1992-06-27 00:00:00\n",
      "Gender                         Women\n",
      "Event                       10,000 m\n",
      "Time_s                      1901.090\n",
      "Age                           15.140\n",
      "Name: 16970, dtype: object\n"
     ]
    }
   ],
   "source": [
    "print(df.loc[df['Age'].idxmin()]) #youngest https://en.wikipedia.org/wiki/Lydia_Cheromei\n"
   ]
  },
  {
   "cell_type": "code",
   "execution_count": 9,
   "metadata": {},
   "outputs": [
    {
     "name": "stdout",
     "output_type": "stream",
     "text": [
      "Rank                             568\n",
      "Time                 00:31:33.440000\n",
      "Name                    Joanne Pavey\n",
      "Country                          GBR\n",
      "Date of Birth    1973-09-20 00:00:00\n",
      "Place                         15.000\n",
      "City                  Rio de Janeiro\n",
      "Date             2016-12-08 00:00:00\n",
      "Gender                         Women\n",
      "Event                       10,000 m\n",
      "Time_s                      1893.440\n",
      "Age                           43.247\n",
      "Name: 16807, dtype: object\n"
     ]
    }
   ],
   "source": [
    "print(df.loc[df['Age'].idxmax()]) #oldest https://en.wikipedia.org/wiki/Jo_Pavey\n"
   ]
  },
  {
   "cell_type": "code",
   "execution_count": 10,
   "metadata": {},
   "outputs": [],
   "source": [
    "# save the data\n",
    "df.to_csv('../Data/data_clean.csv', index=False, sep=';', encoding='utf-8', date_format='%Y-%m-%d')"
   ]
  },
  {
   "cell_type": "code",
   "execution_count": 21,
   "metadata": {},
   "outputs": [
    {
     "data": {
      "image/png": "[encoded data removed]",
      "text/plain": [
       "<Figure size 640x480 with 1 Axes>"
      ]
     },
     "metadata": {},
     "output_type": "display_data"
    }
   ],
   "source": [
    "import matplotlib.pyplot as plt\n",
    "import pandas as pd\n",
    "\n",
    "sorted_df = df.groupby(['Event', 'Gender']).size().reset_index(name='Count')\n",
    "\n",
    "# Custom order for the events\n",
    "event_order = ['100 m', '200 m', '400 m', '800 m', '1500 m',\n",
    "               '5000 m', '10,000 m', 'Half marathon', 'Marathon']\n",
    "\n",
    "# Sort the DataFrame by this custom order\n",
    "sorted_df['Event'] = pd.Categorical(\n",
    "    sorted_df['Event'], categories=event_order, ordered=True)\n",
    "sorted_df = sorted_df.sort_values('Event')\n",
    "\n",
    "# Pivot the DataFrame to have genders as separate columns\n",
    "pivoted_df = sorted_df.pivot(index='Event', columns='Gender', values='Count')\n",
    "\n",
    "# Creating the figure and axes\n",
    "fig, ax = plt.subplots()\n",
    "\n",
    "# Custom colors\n",
    "colors = ['#1b909a', '#eb4729'] # blue, orange -> man, woman\n",
    "\n",
    "# Plotting using the axes object with custom colors\n",
    "pivoted_df.plot(kind='bar', ax=ax, stacked=False, color=colors)\n",
    "\n",
    "# Setting titles and labels\n",
    "ax.set_title('Count of Records per Event by Gender')\n",
    "ax.set_xlabel('Event')\n",
    "ax.set_ylabel('Count')\n",
    "ax.set_xticklabels(pivoted_df.index, rotation=45)\n",
    "ax.legend(title='Gender')\n",
    "ax.legend(title='Gender', loc='upper right', bbox_to_anchor=(1.25, 1))\n",
    "\n",
    "\n",
    "# Display the plot\n",
    "plt.show()"
   ]
  }
 ],
 "metadata": {
  "kernelspec": {
   "display_name": "venv_dataviz-hslu",
   "language": "python",
   "name": "python3"
  },
  "language_info": {
   "codemirror_mode": {
    "name": "ipython",
    "version": 3
   },
   "file_extension": ".py",
   "mimetype": "text/x-python",
   "name": "python",
   "nbconvert_exporter": "python",
   "pygments_lexer": "ipython3",
   "version": "3.11.2"
  }
 },
 "nbformat": 4,
 "nbformat_minor": 2
}
